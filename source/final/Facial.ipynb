{
 "cells": [
  {
   "cell_type": "code",
   "execution_count": 72,
   "metadata": {},
   "outputs": [],
   "source": [
    "import numpy as np\n",
    "import pandas as pd\n",
    "import matplotlib.pyplot as plt\n",
    "%matplotlib inline\n",
    "import seaborn as sns\n",
    "\n",
    "\n",
    "from keras.models import Sequential\n",
    "from keras.layers import Dense, Activation, Dropout, Conv2D, MaxPool2D,Flatten, LeakyReLU\n",
    "from keras.callbacks import ReduceLROnPlateau\n",
    "from keras.optimizers import Adam, SGD"
   ]
  },
  {
   "cell_type": "code",
   "execution_count": 52,
   "metadata": {},
   "outputs": [],
   "source": [
    "training = pd.read_csv('all/training.csv')\n",
    "test = pd.read_csv('all/test.csv')"
   ]
  },
  {
   "cell_type": "code",
   "execution_count": 53,
   "metadata": {},
   "outputs": [],
   "source": [
    "def get_img(df):\n",
    "    imgs = []\n",
    "    img = df.iloc[:,-1].str.split(' ')\n",
    "    for j in range(0,df.shape[0]):\n",
    "        im = [0 if i=='' else i for i in img[j]]\n",
    "        imgs.append(im)\n",
    "    imgs = np.array(imgs, dtype=float).reshape(-1,96,96,1)\n",
    "    return imgs"
   ]
  },
  {
   "cell_type": "code",
   "execution_count": 55,
   "metadata": {},
   "outputs": [],
   "source": [
    "X = get_img(training)/255"
   ]
  },
  {
   "cell_type": "code",
   "execution_count": 58,
   "metadata": {},
   "outputs": [],
   "source": [
    "Y = np.array(training.drop('Image', axis=1).fillna(method='ffill'),dtype=np.float32)"
   ]
  },
  {
   "cell_type": "code",
   "execution_count": 59,
   "metadata": {},
   "outputs": [],
   "source": [
    "X_test = get_img(test)/255"
   ]
  },
  {
   "cell_type": "code",
   "execution_count": 68,
   "metadata": {},
   "outputs": [],
   "source": [
    "def image(i):\n",
    "    img = X[...,0][i]\n",
    "    plt.imshow(img, 'gray')\n",
    "    pt = np.vstack(np.split(Y[i],15)).T\n",
    "    plt.scatter(pt[0],pt[1],c='red',marker = 'x')"
   ]
  },
  {
   "cell_type": "code",
   "execution_count": 69,
   "metadata": {},
   "outputs": [
    {
     "data": {
      "image/png": "[encoded data removed]",
      "text/plain": [
       "<Figure size 432x288 with 1 Axes>"
      ]
     },
     "metadata": {
      "needs_background": "light"
     },
     "output_type": "display_data"
    }
   ],
   "source": [
    "image(0)"
   ]
  },
  {
   "cell_type": "code",
   "execution_count": 93,
   "metadata": {},
   "outputs": [],
   "source": [
    "model = Sequential()\n",
    "\n",
    "model.add(Conv2D(filters = 32, kernel_size = (5,5),padding = 'Same', \n",
    "                 activation ='relu', input_shape = (96,96,1)))\n",
    "model.add(LeakyReLU(alpha=.001))\n",
    "model.add(MaxPool2D(pool_size=(2,2), strides=(2,2)))\n",
    "model.add(Dropout(0.25))\n",
    "\n",
    "model.add(Flatten())\n",
    "model.add(Dense(256, activation = \"relu\"))\n",
    "model.add(LeakyReLU(alpha=.001))\n",
    "model.add(Dropout(0.5))\n",
    "model.add(Dense(128, activation = \"relu\"))\n",
    "model.add(LeakyReLU(alpha=.001))\n",
    "model.add(Dropout(0.5))\n",
    "model.add(Dense(30))"
   ]
  },
  {
   "cell_type": "code",
   "execution_count": 97,
   "metadata": {},
   "outputs": [
    {
     "name": "stdout",
     "output_type": "stream",
     "text": [
      "_________________________________________________________________\n",
      "Layer (type)                 Output Shape              Param #   \n",
      "=================================================================\n",
      "conv2d_12 (Conv2D)           (None, 96, 96, 32)        832       \n",
      "_________________________________________________________________\n",
      "leaky_re_lu_4 (LeakyReLU)    (None, 96, 96, 32)        0         \n",
      "_________________________________________________________________\n",
      "max_pooling2d_12 (MaxPooling (None, 48, 48, 32)        0         \n",
      "_________________________________________________________________\n",
      "dropout_12 (Dropout)         (None, 48, 48, 32)        0         \n",
      "_________________________________________________________________\n",
      "flatten_5 (Flatten)          (None, 73728)             0         \n",
      "_________________________________________________________________\n",
      "dense_15 (Dense)             (None, 256)               18874624  \n",
      "_________________________________________________________________\n",
      "leaky_re_lu_5 (LeakyReLU)    (None, 256)               0         \n",
      "_________________________________________________________________\n",
      "dropout_13 (Dropout)         (None, 256)               0         \n",
      "_________________________________________________________________\n",
      "dense_16 (Dense)             (None, 128)               32896     \n",
      "_________________________________________________________________\n",
      "leaky_re_lu_6 (LeakyReLU)    (None, 128)               0         \n",
      "_________________________________________________________________\n",
      "dropout_14 (Dropout)         (None, 128)               0         \n",
      "_________________________________________________________________\n",
      "dense_17 (Dense)             (None, 30)                3870      \n",
      "=================================================================\n",
      "Total params: 18,912,222\n",
      "Trainable params: 18,912,222\n",
      "Non-trainable params: 0\n",
      "_________________________________________________________________\n"
     ]
    }
   ],
   "source": [
    "sgd = SGD(lr=0.01, momentum=0.9, nesterov=True)\n",
    "model.compile(optimizer='adam', loss = 'mse', metrics=['mae','accuracy'])\n",
    "model.summary()"
   ]
  },
  {
   "cell_type": "code",
   "execution_count": 98,
   "metadata": {},
   "outputs": [
    {
     "name": "stdout",
     "output_type": "stream",
     "text": [
      "Train on 5639 samples, validate on 1410 samples\n",
      "Epoch 1/100\n",
      "5639/5639 [==============================] - 4s 633us/step - loss: 44.1200 - mean_absolute_error: 4.9606 - acc: 0.5935 - val_loss: 6.3364 - val_mean_absolute_error: 1.6231 - val_acc: 0.6872\n",
      "Epoch 2/100\n",
      "5639/5639 [==============================] - 3s 476us/step - loss: 41.9095 - mean_absolute_error: 4.8193 - acc: 0.6006 - val_loss: 10.6857 - val_mean_absolute_error: 2.3673 - val_acc: 0.6872\n",
      "Epoch 3/100\n",
      "5639/5639 [==============================] - 3s 476us/step - loss: 41.0719 - mean_absolute_error: 4.7580 - acc: 0.6001 - val_loss: 7.9990 - val_mean_absolute_error: 1.9081 - val_acc: 0.6872\n",
      "Epoch 4/100\n",
      "5639/5639 [==============================] - 3s 476us/step - loss: 42.7544 - mean_absolute_error: 4.8632 - acc: 0.5974 - val_loss: 7.3910 - val_mean_absolute_error: 1.7738 - val_acc: 0.6872\n",
      "Epoch 5/100\n",
      "5639/5639 [==============================] - 3s 476us/step - loss: 40.3199 - mean_absolute_error: 4.7250 - acc: 0.5863 - val_loss: 9.6526 - val_mean_absolute_error: 2.1926 - val_acc: 0.6872\n",
      "Epoch 6/100\n",
      "5639/5639 [==============================] - 3s 476us/step - loss: 41.1836 - mean_absolute_error: 4.8065 - acc: 0.5841 - val_loss: 7.3900 - val_mean_absolute_error: 1.8711 - val_acc: 0.6872\n",
      "Epoch 7/100\n",
      "5639/5639 [==============================] - 3s 476us/step - loss: 39.6757 - mean_absolute_error: 4.6955 - acc: 0.5843 - val_loss: 8.0559 - val_mean_absolute_error: 1.9280 - val_acc: 0.6872\n",
      "Epoch 8/100\n",
      "5639/5639 [==============================] - 3s 485us/step - loss: 38.0827 - mean_absolute_error: 4.5797 - acc: 0.5847 - val_loss: 7.1862 - val_mean_absolute_error: 1.7776 - val_acc: 0.6872\n",
      "Epoch 9/100\n",
      "5639/5639 [==============================] - 3s 484us/step - loss: 38.4000 - mean_absolute_error: 4.6173 - acc: 0.5827 - val_loss: 5.8141 - val_mean_absolute_error: 1.5061 - val_acc: 0.6872\n",
      "Epoch 10/100\n",
      "5639/5639 [==============================] - 3s 479us/step - loss: 36.8480 - mean_absolute_error: 4.5249 - acc: 0.5799 - val_loss: 7.6368 - val_mean_absolute_error: 1.8224 - val_acc: 0.6872\n",
      "Epoch 11/100\n",
      "5639/5639 [==============================] - 3s 477us/step - loss: 36.5507 - mean_absolute_error: 4.5217 - acc: 0.5834 - val_loss: 6.0389 - val_mean_absolute_error: 1.5106 - val_acc: 0.6872\n",
      "Epoch 12/100\n",
      "5639/5639 [==============================] - 3s 478us/step - loss: 36.2881 - mean_absolute_error: 4.4769 - acc: 0.5872 - val_loss: 6.2535 - val_mean_absolute_error: 1.5675 - val_acc: 0.6872\n",
      "Epoch 13/100\n",
      "5639/5639 [==============================] - 3s 482us/step - loss: 35.1215 - mean_absolute_error: 4.4156 - acc: 0.5884 - val_loss: 10.0389 - val_mean_absolute_error: 2.2575 - val_acc: 0.6872\n",
      "Epoch 14/100\n",
      "5639/5639 [==============================] - 3s 479us/step - loss: 35.6370 - mean_absolute_error: 4.4309 - acc: 0.5914 - val_loss: 7.9174 - val_mean_absolute_error: 1.8941 - val_acc: 0.6872\n",
      "Epoch 15/100\n",
      "5639/5639 [==============================] - 3s 480us/step - loss: 35.3058 - mean_absolute_error: 4.4208 - acc: 0.6017 - val_loss: 5.8461 - val_mean_absolute_error: 1.4906 - val_acc: 0.6872\n",
      "Epoch 16/100\n",
      "5639/5639 [==============================] - 3s 479us/step - loss: 34.9293 - mean_absolute_error: 4.3905 - acc: 0.5955 - val_loss: 6.8836 - val_mean_absolute_error: 1.6815 - val_acc: 0.6872\n",
      "Epoch 17/100\n",
      "5639/5639 [==============================] - 3s 478us/step - loss: 33.7668 - mean_absolute_error: 4.3245 - acc: 0.6028 - val_loss: 9.4862 - val_mean_absolute_error: 2.1754 - val_acc: 0.6872\n",
      "Epoch 18/100\n",
      "5639/5639 [==============================] - 3s 478us/step - loss: 35.2000 - mean_absolute_error: 4.3980 - acc: 0.6013 - val_loss: 6.6201 - val_mean_absolute_error: 1.6254 - val_acc: 0.6872\n",
      "Epoch 19/100\n",
      "5639/5639 [==============================] - 3s 479us/step - loss: 33.9129 - mean_absolute_error: 4.3309 - acc: 0.6035 - val_loss: 6.0579 - val_mean_absolute_error: 1.5412 - val_acc: 0.6872\n",
      "Epoch 20/100\n",
      "5639/5639 [==============================] - 3s 479us/step - loss: 34.0352 - mean_absolute_error: 4.3316 - acc: 0.6049 - val_loss: 7.8370 - val_mean_absolute_error: 1.8935 - val_acc: 0.6872\n",
      "Epoch 21/100\n",
      "5639/5639 [==============================] - 3s 478us/step - loss: 33.4437 - mean_absolute_error: 4.2658 - acc: 0.6047 - val_loss: 7.2607 - val_mean_absolute_error: 1.7782 - val_acc: 0.6872\n",
      "Epoch 22/100\n",
      "5639/5639 [==============================] - 3s 478us/step - loss: 33.8749 - mean_absolute_error: 4.3299 - acc: 0.6051 - val_loss: 6.2231 - val_mean_absolute_error: 1.5932 - val_acc: 0.6872\n",
      "Epoch 23/100\n",
      "5639/5639 [==============================] - 3s 478us/step - loss: 33.7736 - mean_absolute_error: 4.3115 - acc: 0.6028 - val_loss: 6.8479 - val_mean_absolute_error: 1.7041 - val_acc: 0.6872\n",
      "Epoch 24/100\n",
      "5639/5639 [==============================] - 3s 477us/step - loss: 32.8851 - mean_absolute_error: 4.2543 - acc: 0.6047 - val_loss: 6.1378 - val_mean_absolute_error: 1.5659 - val_acc: 0.6872\n",
      "Epoch 25/100\n",
      "5639/5639 [==============================] - 3s 478us/step - loss: 32.9069 - mean_absolute_error: 4.2640 - acc: 0.6051 - val_loss: 6.9084 - val_mean_absolute_error: 1.7051 - val_acc: 0.6872\n",
      "Epoch 26/100\n",
      "5639/5639 [==============================] - 3s 478us/step - loss: 32.5346 - mean_absolute_error: 4.2182 - acc: 0.6056 - val_loss: 6.2131 - val_mean_absolute_error: 1.5592 - val_acc: 0.6872\n",
      "Epoch 27/100\n",
      "5639/5639 [==============================] - 3s 479us/step - loss: 32.9765 - mean_absolute_error: 4.2557 - acc: 0.6052 - val_loss: 5.7933 - val_mean_absolute_error: 1.4792 - val_acc: 0.6872\n",
      "Epoch 28/100\n",
      "5639/5639 [==============================] - 3s 478us/step - loss: 32.8462 - mean_absolute_error: 4.2466 - acc: 0.6051 - val_loss: 6.1734 - val_mean_absolute_error: 1.5637 - val_acc: 0.6872\n",
      "Epoch 29/100\n",
      "5639/5639 [==============================] - 3s 478us/step - loss: 32.1368 - mean_absolute_error: 4.2093 - acc: 0.6052 - val_loss: 6.0810 - val_mean_absolute_error: 1.5348 - val_acc: 0.6872\n",
      "Epoch 30/100\n",
      "5639/5639 [==============================] - ETA: 0s - loss: 31.9475 - mean_absolute_error: 4.1802 - acc: 0.60 - 3s 477us/step - loss: 31.9337 - mean_absolute_error: 4.1792 - acc: 0.6054 - val_loss: 6.8539 - val_mean_absolute_error: 1.7021 - val_acc: 0.6872\n",
      "Epoch 31/100\n",
      "5639/5639 [==============================] - 3s 477us/step - loss: 30.9028 - mean_absolute_error: 4.1280 - acc: 0.6052 - val_loss: 6.3845 - val_mean_absolute_error: 1.6049 - val_acc: 0.6872\n",
      "Epoch 32/100\n",
      "5639/5639 [==============================] - 3s 477us/step - loss: 31.9421 - mean_absolute_error: 4.1798 - acc: 0.6052 - val_loss: 6.4728 - val_mean_absolute_error: 1.6230 - val_acc: 0.6872\n",
      "Epoch 33/100\n",
      "5639/5639 [==============================] - 3s 479us/step - loss: 31.4226 - mean_absolute_error: 4.1721 - acc: 0.6052 - val_loss: 6.3544 - val_mean_absolute_error: 1.6031 - val_acc: 0.6872\n",
      "Epoch 34/100\n",
      "5639/5639 [==============================] - 3s 478us/step - loss: 30.7805 - mean_absolute_error: 4.1099 - acc: 0.6058 - val_loss: 6.3943 - val_mean_absolute_error: 1.6053 - val_acc: 0.6872\n",
      "Epoch 35/100\n",
      "5639/5639 [==============================] - 3s 478us/step - loss: 31.5505 - mean_absolute_error: 4.1764 - acc: 0.6054 - val_loss: 7.0311 - val_mean_absolute_error: 1.7451 - val_acc: 0.6872\n",
      "Epoch 36/100\n",
      "5639/5639 [==============================] - 3s 477us/step - loss: 31.0251 - mean_absolute_error: 4.1220 - acc: 0.6056 - val_loss: 5.9666 - val_mean_absolute_error: 1.5019 - val_acc: 0.6872\n",
      "Epoch 37/100\n",
      "5639/5639 [==============================] - 3s 478us/step - loss: 31.4503 - mean_absolute_error: 4.1597 - acc: 0.6058 - val_loss: 6.6523 - val_mean_absolute_error: 1.6806 - val_acc: 0.6872\n",
      "Epoch 38/100\n",
      "5639/5639 [==============================] - 3s 477us/step - loss: 31.0311 - mean_absolute_error: 4.1180 - acc: 0.6045 - val_loss: 6.0064 - val_mean_absolute_error: 1.5446 - val_acc: 0.6872\n",
      "Epoch 39/100\n",
      "5639/5639 [==============================] - 3s 477us/step - loss: 30.6286 - mean_absolute_error: 4.0906 - acc: 0.6052 - val_loss: 6.4604 - val_mean_absolute_error: 1.6392 - val_acc: 0.6872\n",
      "Epoch 40/100\n",
      "5639/5639 [==============================] - 3s 477us/step - loss: 30.6459 - mean_absolute_error: 4.0981 - acc: 0.6052 - val_loss: 6.7328 - val_mean_absolute_error: 1.6943 - val_acc: 0.6872\n"
     ]
    },
    {
     "name": "stdout",
     "output_type": "stream",
     "text": [
      "Epoch 41/100\n",
      "5639/5639 [==============================] - 3s 476us/step - loss: 31.4449 - mean_absolute_error: 4.1460 - acc: 0.6052 - val_loss: 6.2363 - val_mean_absolute_error: 1.5773 - val_acc: 0.6872\n",
      "Epoch 42/100\n",
      "5639/5639 [==============================] - 3s 476us/step - loss: 30.8688 - mean_absolute_error: 4.0933 - acc: 0.6052 - val_loss: 5.8198 - val_mean_absolute_error: 1.4665 - val_acc: 0.6872\n",
      "Epoch 43/100\n",
      "5639/5639 [==============================] - 3s 475us/step - loss: 31.1216 - mean_absolute_error: 4.1025 - acc: 0.6052 - val_loss: 6.6909 - val_mean_absolute_error: 1.6799 - val_acc: 0.6872\n",
      "Epoch 44/100\n",
      "5639/5639 [==============================] - 3s 477us/step - loss: 30.6304 - mean_absolute_error: 4.0771 - acc: 0.6052 - val_loss: 6.0659 - val_mean_absolute_error: 1.5464 - val_acc: 0.6872\n",
      "Epoch 45/100\n",
      "5639/5639 [==============================] - 3s 476us/step - loss: 30.4909 - mean_absolute_error: 4.0598 - acc: 0.6052 - val_loss: 6.0812 - val_mean_absolute_error: 1.5367 - val_acc: 0.6872\n",
      "Epoch 46/100\n",
      "5639/5639 [==============================] - 3s 476us/step - loss: 30.3992 - mean_absolute_error: 4.0708 - acc: 0.6052 - val_loss: 6.6893 - val_mean_absolute_error: 1.6677 - val_acc: 0.6872\n",
      "Epoch 47/100\n",
      "5639/5639 [==============================] - 3s 476us/step - loss: 30.5863 - mean_absolute_error: 4.0897 - acc: 0.6054 - val_loss: 5.5750 - val_mean_absolute_error: 1.4292 - val_acc: 0.6872\n",
      "Epoch 48/100\n",
      "5639/5639 [==============================] - 3s 475us/step - loss: 30.2084 - mean_absolute_error: 4.0519 - acc: 0.6052 - val_loss: 6.8057 - val_mean_absolute_error: 1.7024 - val_acc: 0.6872\n",
      "Epoch 49/100\n",
      "5639/5639 [==============================] - 3s 476us/step - loss: 30.2911 - mean_absolute_error: 4.0496 - acc: 0.6052 - val_loss: 5.4537 - val_mean_absolute_error: 1.3963 - val_acc: 0.6872\n",
      "Epoch 50/100\n",
      "5639/5639 [==============================] - 3s 478us/step - loss: 30.5145 - mean_absolute_error: 4.0626 - acc: 0.6052 - val_loss: 5.8995 - val_mean_absolute_error: 1.4965 - val_acc: 0.6872\n",
      "Epoch 51/100\n",
      "5639/5639 [==============================] - 3s 476us/step - loss: 29.5082 - mean_absolute_error: 4.0038 - acc: 0.6052 - val_loss: 6.2373 - val_mean_absolute_error: 1.5847 - val_acc: 0.6872\n",
      "Epoch 52/100\n",
      "5639/5639 [==============================] - 3s 476us/step - loss: 29.4378 - mean_absolute_error: 4.0166 - acc: 0.6052 - val_loss: 6.2356 - val_mean_absolute_error: 1.5718 - val_acc: 0.6872\n",
      "Epoch 53/100\n",
      "5639/5639 [==============================] - 3s 477us/step - loss: 29.9574 - mean_absolute_error: 4.0293 - acc: 0.6052 - val_loss: 5.3939 - val_mean_absolute_error: 1.3778 - val_acc: 0.6872\n",
      "Epoch 54/100\n",
      "5639/5639 [==============================] - 3s 478us/step - loss: 30.7661 - mean_absolute_error: 4.1057 - acc: 0.6054 - val_loss: 6.0392 - val_mean_absolute_error: 1.5166 - val_acc: 0.6872\n",
      "Epoch 55/100\n",
      "5639/5639 [==============================] - 3s 478us/step - loss: 30.4198 - mean_absolute_error: 4.0703 - acc: 0.6052 - val_loss: 6.0891 - val_mean_absolute_error: 1.5532 - val_acc: 0.6872\n",
      "Epoch 56/100\n",
      "5639/5639 [==============================] - 3s 479us/step - loss: 30.3012 - mean_absolute_error: 4.0580 - acc: 0.6052 - val_loss: 6.7733 - val_mean_absolute_error: 1.6861 - val_acc: 0.6872\n",
      "Epoch 57/100\n",
      "5639/5639 [==============================] - 3s 478us/step - loss: 30.1362 - mean_absolute_error: 4.0602 - acc: 0.6052 - val_loss: 6.2503 - val_mean_absolute_error: 1.5969 - val_acc: 0.6872\n",
      "Epoch 58/100\n",
      "5639/5639 [==============================] - 3s 478us/step - loss: 30.2340 - mean_absolute_error: 4.0608 - acc: 0.6052 - val_loss: 5.9634 - val_mean_absolute_error: 1.5136 - val_acc: 0.6872\n",
      "Epoch 59/100\n",
      "5639/5639 [==============================] - 3s 478us/step - loss: 29.9914 - mean_absolute_error: 4.0620 - acc: 0.6052 - val_loss: 5.6517 - val_mean_absolute_error: 1.4357 - val_acc: 0.6872\n",
      "Epoch 60/100\n",
      "5639/5639 [==============================] - 3s 479us/step - loss: 30.2605 - mean_absolute_error: 4.0768 - acc: 0.6052 - val_loss: 6.5196 - val_mean_absolute_error: 1.6488 - val_acc: 0.6872\n",
      "Epoch 61/100\n",
      "5639/5639 [==============================] - 3s 479us/step - loss: 29.6189 - mean_absolute_error: 4.0410 - acc: 0.6052 - val_loss: 5.5329 - val_mean_absolute_error: 1.4125 - val_acc: 0.6872\n",
      "Epoch 62/100\n",
      "5639/5639 [==============================] - 3s 478us/step - loss: 29.5256 - mean_absolute_error: 4.0196 - acc: 0.6052 - val_loss: 5.7293 - val_mean_absolute_error: 1.4642 - val_acc: 0.6872\n",
      "Epoch 63/100\n",
      "5639/5639 [==============================] - 3s 478us/step - loss: 29.4611 - mean_absolute_error: 4.0050 - acc: 0.6052 - val_loss: 5.3835 - val_mean_absolute_error: 1.3614 - val_acc: 0.6872\n",
      "Epoch 64/100\n",
      "5639/5639 [==============================] - 3s 477us/step - loss: 30.2375 - mean_absolute_error: 4.0418 - acc: 0.6052 - val_loss: 5.9323 - val_mean_absolute_error: 1.5131 - val_acc: 0.6872\n",
      "Epoch 65/100\n",
      "5639/5639 [==============================] - 3s 478us/step - loss: 30.2316 - mean_absolute_error: 4.0522 - acc: 0.6052 - val_loss: 6.1675 - val_mean_absolute_error: 1.5595 - val_acc: 0.6872\n",
      "Epoch 66/100\n",
      "5639/5639 [==============================] - 3s 479us/step - loss: 29.2466 - mean_absolute_error: 3.9882 - acc: 0.6052 - val_loss: 5.3907 - val_mean_absolute_error: 1.3469 - val_acc: 0.6872\n",
      "Epoch 67/100\n",
      "5639/5639 [==============================] - 3s 478us/step - loss: 29.5166 - mean_absolute_error: 4.0118 - acc: 0.6051 - val_loss: 5.5683 - val_mean_absolute_error: 1.4133 - val_acc: 0.6872\n",
      "Epoch 68/100\n",
      "5639/5639 [==============================] - 3s 479us/step - loss: 29.5339 - mean_absolute_error: 3.9931 - acc: 0.6051 - val_loss: 5.7459 - val_mean_absolute_error: 1.4339 - val_acc: 0.6872\n",
      "Epoch 69/100\n",
      "5639/5639 [==============================] - 3s 476us/step - loss: 28.6387 - mean_absolute_error: 3.9490 - acc: 0.6063 - val_loss: 5.5127 - val_mean_absolute_error: 1.3926 - val_acc: 0.6872\n",
      "Epoch 70/100\n",
      "5639/5639 [==============================] - 3s 478us/step - loss: 29.3600 - mean_absolute_error: 4.0029 - acc: 0.6083 - val_loss: 5.5370 - val_mean_absolute_error: 1.3971 - val_acc: 0.6872\n",
      "Epoch 71/100\n",
      "5639/5639 [==============================] - 3s 479us/step - loss: 28.8655 - mean_absolute_error: 3.9608 - acc: 0.6099 - val_loss: 5.1920 - val_mean_absolute_error: 1.3025 - val_acc: 0.6872\n",
      "Epoch 72/100\n",
      "5639/5639 [==============================] - 3s 478us/step - loss: 29.6079 - mean_absolute_error: 4.0092 - acc: 0.6125 - val_loss: 5.4711 - val_mean_absolute_error: 1.3807 - val_acc: 0.6872\n",
      "Epoch 73/100\n",
      "5639/5639 [==============================] - 3s 479us/step - loss: 28.2149 - mean_absolute_error: 3.9041 - acc: 0.6154 - val_loss: 5.5924 - val_mean_absolute_error: 1.4167 - val_acc: 0.6879\n",
      "Epoch 74/100\n",
      "5639/5639 [==============================] - 3s 478us/step - loss: 28.8912 - mean_absolute_error: 3.9621 - acc: 0.6171 - val_loss: 5.4444 - val_mean_absolute_error: 1.3778 - val_acc: 0.6865\n",
      "Epoch 75/100\n",
      "5639/5639 [==============================] - 3s 478us/step - loss: 28.8579 - mean_absolute_error: 3.9462 - acc: 0.6159 - val_loss: 5.5793 - val_mean_absolute_error: 1.3779 - val_acc: 0.6865\n",
      "Epoch 76/100\n",
      "5639/5639 [==============================] - 3s 478us/step - loss: 29.3118 - mean_absolute_error: 3.9895 - acc: 0.6262 - val_loss: 6.2958 - val_mean_absolute_error: 1.5638 - val_acc: 0.6858\n",
      "Epoch 77/100\n",
      "5639/5639 [==============================] - 3s 477us/step - loss: 28.4383 - mean_absolute_error: 3.9147 - acc: 0.6256 - val_loss: 5.3616 - val_mean_absolute_error: 1.3214 - val_acc: 0.6858\n",
      "Epoch 78/100\n",
      "5639/5639 [==============================] - 3s 478us/step - loss: 28.8800 - mean_absolute_error: 3.9460 - acc: 0.6287 - val_loss: 5.6561 - val_mean_absolute_error: 1.4220 - val_acc: 0.6844\n",
      "Epoch 79/100\n",
      "5639/5639 [==============================] - 3s 480us/step - loss: 28.3548 - mean_absolute_error: 3.9448 - acc: 0.6388 - val_loss: 5.3429 - val_mean_absolute_error: 1.3379 - val_acc: 0.6823\n",
      "Epoch 80/100\n",
      "5639/5639 [==============================] - 3s 479us/step - loss: 28.3038 - mean_absolute_error: 3.9107 - acc: 0.6271 - val_loss: 7.2083 - val_mean_absolute_error: 1.7496 - val_acc: 0.6723\n",
      "Epoch 81/100\n"
     ]
    },
    {
     "name": "stdout",
     "output_type": "stream",
     "text": [
      "5639/5639 [==============================] - 3s 479us/step - loss: 27.7425 - mean_absolute_error: 3.8568 - acc: 0.6386 - val_loss: 6.4999 - val_mean_absolute_error: 1.6052 - val_acc: 0.6709\n",
      "Epoch 82/100\n",
      "5639/5639 [==============================] - 3s 480us/step - loss: 28.5227 - mean_absolute_error: 3.9384 - acc: 0.6356 - val_loss: 6.3515 - val_mean_absolute_error: 1.5829 - val_acc: 0.6709\n",
      "Epoch 83/100\n",
      "5639/5639 [==============================] - 3s 478us/step - loss: 28.9283 - mean_absolute_error: 3.9583 - acc: 0.6506 - val_loss: 5.0600 - val_mean_absolute_error: 1.2321 - val_acc: 0.6830\n",
      "Epoch 84/100\n",
      "5639/5639 [==============================] - 3s 478us/step - loss: 28.6872 - mean_absolute_error: 3.9502 - acc: 0.6519 - val_loss: 5.3884 - val_mean_absolute_error: 1.3374 - val_acc: 0.6794\n",
      "Epoch 85/100\n",
      "5639/5639 [==============================] - 3s 476us/step - loss: 27.7810 - mean_absolute_error: 3.8976 - acc: 0.6436 - val_loss: 6.4050 - val_mean_absolute_error: 1.6148 - val_acc: 0.6695\n",
      "Epoch 86/100\n",
      "5639/5639 [==============================] - 3s 479us/step - loss: 28.1109 - mean_absolute_error: 3.9069 - acc: 0.6533 - val_loss: 6.0688 - val_mean_absolute_error: 1.5099 - val_acc: 0.6667\n",
      "Epoch 87/100\n",
      "5639/5639 [==============================] - 3s 476us/step - loss: 28.3608 - mean_absolute_error: 3.9157 - acc: 0.6558 - val_loss: 5.9919 - val_mean_absolute_error: 1.5025 - val_acc: 0.6723\n",
      "Epoch 88/100\n",
      "5639/5639 [==============================] - 3s 474us/step - loss: 27.9160 - mean_absolute_error: 3.9006 - acc: 0.6567 - val_loss: 5.3650 - val_mean_absolute_error: 1.3363 - val_acc: 0.6752\n",
      "Epoch 89/100\n",
      "5639/5639 [==============================] - 3s 478us/step - loss: 28.3959 - mean_absolute_error: 3.9247 - acc: 0.6501 - val_loss: 5.5893 - val_mean_absolute_error: 1.3911 - val_acc: 0.6695\n",
      "Epoch 90/100\n",
      "5639/5639 [==============================] - 3s 477us/step - loss: 28.2118 - mean_absolute_error: 3.9107 - acc: 0.6613 - val_loss: 5.8859 - val_mean_absolute_error: 1.4890 - val_acc: 0.6730\n",
      "Epoch 91/100\n",
      "5639/5639 [==============================] - 3s 476us/step - loss: 27.5817 - mean_absolute_error: 3.8757 - acc: 0.6611 - val_loss: 5.8557 - val_mean_absolute_error: 1.4581 - val_acc: 0.6440\n",
      "Epoch 92/100\n",
      "5639/5639 [==============================] - 3s 478us/step - loss: 28.5685 - mean_absolute_error: 3.9133 - acc: 0.6680 - val_loss: 5.6536 - val_mean_absolute_error: 1.3935 - val_acc: 0.6730\n",
      "Epoch 93/100\n",
      "5639/5639 [==============================] - 3s 478us/step - loss: 28.2376 - mean_absolute_error: 3.9046 - acc: 0.6620 - val_loss: 5.8955 - val_mean_absolute_error: 1.4812 - val_acc: 0.6745\n",
      "Epoch 94/100\n",
      "5639/5639 [==============================] - 3s 479us/step - loss: 27.4017 - mean_absolute_error: 3.8576 - acc: 0.6709 - val_loss: 5.9075 - val_mean_absolute_error: 1.4846 - val_acc: 0.6567\n",
      "Epoch 95/100\n",
      "5639/5639 [==============================] - 3s 478us/step - loss: 28.2732 - mean_absolute_error: 3.8961 - acc: 0.6746 - val_loss: 6.6577 - val_mean_absolute_error: 1.6650 - val_acc: 0.6652\n",
      "Epoch 96/100\n",
      "5639/5639 [==============================] - 3s 476us/step - loss: 28.6275 - mean_absolute_error: 3.9516 - acc: 0.6698 - val_loss: 5.7212 - val_mean_absolute_error: 1.4166 - val_acc: 0.6582\n",
      "Epoch 97/100\n",
      "5639/5639 [==============================] - 3s 478us/step - loss: 27.8401 - mean_absolute_error: 3.8785 - acc: 0.6638 - val_loss: 5.4217 - val_mean_absolute_error: 1.3191 - val_acc: 0.6667\n",
      "Epoch 98/100\n",
      "5639/5639 [==============================] - 3s 477us/step - loss: 27.9278 - mean_absolute_error: 3.8944 - acc: 0.6696 - val_loss: 5.7586 - val_mean_absolute_error: 1.4334 - val_acc: 0.6716\n",
      "Epoch 99/100\n",
      "5639/5639 [==============================] - 3s 477us/step - loss: 28.0120 - mean_absolute_error: 3.8851 - acc: 0.6700 - val_loss: 5.3963 - val_mean_absolute_error: 1.3576 - val_acc: 0.6695\n",
      "Epoch 100/100\n",
      "5639/5639 [==============================] - 3s 480us/step - loss: 27.7136 - mean_absolute_error: 3.8584 - acc: 0.6703 - val_loss: 5.7815 - val_mean_absolute_error: 1.4209 - val_acc: 0.6567\n"
     ]
    },
    {
     "data": {
      "text/plain": [
       "<keras.callbacks.History at 0x1e37e121080>"
      ]
     },
     "execution_count": 98,
     "metadata": {},
     "output_type": "execute_result"
    }
   ],
   "source": [
    "model.fit(X, Y, epochs=100, batch_size=128,validation_split = 0.2)"
   ]
  },
  {
   "cell_type": "code",
   "execution_count": 108,
   "metadata": {},
   "outputs": [
    {
     "data": {
      "text/plain": [
       "array([[64.75142 , 36.448647, 29.12632 , ..., 70.583954, 46.082336,\n",
       "        80.16478 ],\n",
       "       [65.78961 , 37.158157, 29.79264 , ..., 73.27896 , 47.563416,\n",
       "        79.7512  ],\n",
       "       [64.994255, 36.682674, 29.524302, ..., 71.32974 , 46.73668 ,\n",
       "        79.596176],\n",
       "       ...,\n",
       "       [66.01998 , 37.60055 , 30.567036, ..., 75.8642  , 49.210785,\n",
       "        77.00016 ],\n",
       "       [65.07104 , 36.83236 , 29.563496, ..., 73.350685, 47.40931 ,\n",
       "        78.00326 ],\n",
       "       [66.10515 , 37.534725, 30.330727, ..., 75.326965, 48.764412,\n",
       "        78.08841 ]], dtype=float32)"
      ]
     },
     "execution_count": 108,
     "metadata": {},
     "output_type": "execute_result"
    }
   ],
   "source": [
    "Y_pred = model.predict(X_test)\n",
    "Y_pred"
   ]
  },
  {
   "cell_type": "code",
   "execution_count": 109,
   "metadata": {},
   "outputs": [],
   "source": [
    "def image_(i):\n",
    "    img = X_test[...,0][i]\n",
    "    plt.imshow(img, 'gray')\n",
    "    pt = np.vstack(np.split(Y_pred[i],15)).T\n",
    "    plt.scatter(pt[0],pt[1],c='red',marker = 'x')"
   ]
  },
  {
   "cell_type": "code",
   "execution_count": 110,
   "metadata": {},
   "outputs": [
    {
     "data": {
      "image/png": "[encoded data removed]",
      "text/plain": [
       "<Figure size 432x288 with 1 Axes>"
      ]
     },
     "metadata": {
      "needs_background": "light"
     },
     "output_type": "display_data"
    }
   ],
   "source": [
    "image_(0)"
   ]
  },
  {
   "cell_type": "code",
   "execution_count": 117,
   "metadata": {},
   "outputs": [],
   "source": [
    "look_id = pd.read_csv('all/IdLookupTable.csv')"
   ]
  },
  {
   "cell_type": "code",
   "execution_count": 118,
   "metadata": {},
   "outputs": [],
   "source": [
    "timag = []\n",
    "for i in range(0,1783):\n",
    "    timg = test_data['Image'][i].split(' ')\n",
    "    timg = ['0' if x == '' else x for x in timg]\n",
    "    \n",
    "    timag.append(timg)"
   ]
  },
  {
   "cell_type": "code",
   "execution_count": 119,
   "metadata": {},
   "outputs": [],
   "source": [
    "timage_list = np.array(timag,dtype = 'float')\n",
    "X_test = timage_list.reshape(-1,96,96)"
   ]
  },
  {
   "cell_type": "code",
   "execution_count": 114,
   "metadata": {},
   "outputs": [],
   "source": [
    "df = look_id.copy()\n",
    "\n",
    "location = pd.DataFrame({'Location':[]})\n",
    "for i in range(1,1784):\n",
    "    ind = df[df.ImageId==i].location_id\n",
    "    location = location.append(pd.DataFrame(pred[i-1][list(ind)],columns=['Location']), ignore_index=True)"
   ]
  },
  {
   "cell_type": "code",
   "execution_count": 121,
   "metadata": {},
   "outputs": [],
   "source": [
    "lookid_list = list(lookid_data['FeatureName'])\n",
    "imageID = list(lookid_data['ImageId']-1)\n",
    "pre_list = list(Y_pred)"
   ]
  },
  {
   "cell_type": "code",
   "execution_count": 122,
   "metadata": {},
   "outputs": [],
   "source": [
    "rowid = lookid_data['RowId']\n",
    "rowid=list(rowid)"
   ]
  },
  {
   "cell_type": "code",
   "execution_count": 123,
   "metadata": {},
   "outputs": [],
   "source": [
    "feature = []\n",
    "for f in list(lookid_data['FeatureName']):\n",
    "    feature.append(lookid_list.index(f))"
   ]
  },
  {
   "cell_type": "code",
   "execution_count": 124,
   "metadata": {},
   "outputs": [],
   "source": [
    "preded = []\n",
    "for x,y in zip(imageID,feature):\n",
    "    preded.append(pre_list[x][y])"
   ]
  },
  {
   "cell_type": "code",
   "execution_count": 125,
   "metadata": {},
   "outputs": [],
   "source": [
    "rowid = pd.Series(rowid,name = 'RowId')\n",
    "loc = pd.Series(preded,name = 'Location')\n",
    "submission = pd.concat([rowid,loc],axis = 1)"
   ]
  },
  {
   "cell_type": "code",
   "execution_count": 126,
   "metadata": {},
   "outputs": [],
   "source": [
    "submission.to_csv('face_key_detection_submission.csv',index = False)"
   ]
  },
  {
   "cell_type": "code",
   "execution_count": null,
   "metadata": {},
   "outputs": [],
   "source": []
  }
 ],
 "metadata": {
  "kernelspec": {
   "display_name": "Python 3",
   "language": "python",
   "name": "python3"
  },
  "language_info": {
   "codemirror_mode": {
    "name": "ipython",
    "version": 3
   },
   "file_extension": ".py",
   "mimetype": "text/x-python",
   "name": "python",
   "nbconvert_exporter": "python",
   "pygments_lexer": "ipython3",
   "version": "3.6.8"
  }
 },
 "nbformat": 4,
 "nbformat_minor": 2
}
